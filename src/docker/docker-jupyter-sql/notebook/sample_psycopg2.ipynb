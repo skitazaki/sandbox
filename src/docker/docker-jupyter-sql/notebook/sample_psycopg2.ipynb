{
 "cells": [
  {
   "cell_type": "markdown",
   "metadata": {},
   "source": [
    "# *psycopg2* を使うサンプル\n",
    "\n",
    "*psycopg2* モジュールを使ってデータベースに接続します。テーブルを作成し、[ipython-sql](https://github.com/catherinedevlin/ipython-sql) の ``%%sql`` でクエリの結果を確認します。"
   ]
  },
  {
   "cell_type": "markdown",
   "metadata": {},
   "source": [
    "Python モジュールを読み込み、環境変数から接続情報を取得します。"
   ]
  },
  {
   "cell_type": "code",
   "execution_count": 1,
   "metadata": {},
   "outputs": [],
   "source": [
    "import os\n",
    "\n",
    "import psycopg2\n",
    "\n",
    "pgconfig = {\n",
    "    'host': os.getenv('PGHOST'),\n",
    "    'port': os.getenv('PGPORT', 5432),\n",
    "    'database': os.getenv('PGDATABASE'),\n",
    "    'user': os.getenv('PGUSER'),\n",
    "    'password': os.getenv('PGPASSWORD'),\n",
    "}"
   ]
  },
  {
   "cell_type": "markdown",
   "metadata": {
    "collapsed": true
   },
   "source": [
    "環境変数から取得した接続情報でデータベースに接続します。"
   ]
  },
  {
   "cell_type": "code",
   "execution_count": 2,
   "metadata": {},
   "outputs": [
    {
     "data": {
      "text/plain": [
       "<connection object at 0x7f13d81a92b8; dsn: 'user=postgres password=xxx dbname=postgres host=postgres port=5432', closed: 0>"
      ]
     },
     "execution_count": 2,
     "metadata": {},
     "output_type": "execute_result"
    }
   ],
   "source": [
    "conn = psycopg2.connect(**pgconfig)\n",
    "conn"
   ]
  },
  {
   "cell_type": "markdown",
   "metadata": {},
   "source": [
    "SQL を実行するためのカーソルを取得します。"
   ]
  },
  {
   "cell_type": "code",
   "execution_count": 3,
   "metadata": {},
   "outputs": [],
   "source": [
    "cur = conn.cursor()"
   ]
  },
  {
   "cell_type": "markdown",
   "metadata": {},
   "source": [
    "テーブルを定義します。"
   ]
  },
  {
   "cell_type": "code",
   "execution_count": 4,
   "metadata": {},
   "outputs": [],
   "source": [
    "cur.execute('''\n",
    "DROP TABLE IF EXISTS t ;\n",
    "\n",
    "CREATE TABLE t (\n",
    "    id SERIAL,\n",
    "    code CHAR(2) NOT NULL,\n",
    "    name TEXT NOT NULL,\n",
    "    created_at TIMESTAMP WITHOUT TIME ZONE DEFAULT now()\n",
    ")''')"
   ]
  },
  {
   "cell_type": "markdown",
   "metadata": {},
   "source": [
    "データを登録します。"
   ]
  },
  {
   "cell_type": "code",
   "execution_count": 5,
   "metadata": {},
   "outputs": [],
   "source": [
    "cur.execute('''\n",
    "INSERT INTO t (\n",
    "    code, name\n",
    ") VALUES\n",
    "    ('01', '北海道'),\n",
    "    ('47', '沖縄県')\n",
    "''')"
   ]
  },
  {
   "cell_type": "markdown",
   "metadata": {},
   "source": [
    "データを取得します。"
   ]
  },
  {
   "cell_type": "code",
   "execution_count": 6,
   "metadata": {},
   "outputs": [
    {
     "name": "stdout",
     "output_type": "stream",
     "text": [
      "(1, '01', '北海道', datetime.datetime(2020, 4, 17, 14, 49, 29, 996229))\n",
      "(2, '47', '沖縄県', datetime.datetime(2020, 4, 17, 14, 49, 29, 996229))\n"
     ]
    }
   ],
   "source": [
    "cur.execute(\"SELECT * FROM t\")\n",
    "print(cur.fetchone())\n",
    "print(cur.fetchone())"
   ]
  },
  {
   "cell_type": "markdown",
   "metadata": {},
   "source": [
    "カーソルを閉じます。"
   ]
  },
  {
   "cell_type": "code",
   "execution_count": 7,
   "metadata": {},
   "outputs": [],
   "source": [
    "cur.close()"
   ]
  },
  {
   "cell_type": "markdown",
   "metadata": {},
   "source": [
    "登録したデータをコミットしてから接続を閉じます。"
   ]
  },
  {
   "cell_type": "code",
   "execution_count": 8,
   "metadata": {},
   "outputs": [],
   "source": [
    "conn.commit()\n",
    "conn.close()"
   ]
  },
  {
   "cell_type": "markdown",
   "metadata": {},
   "source": [
    "`%%sql` コマンドを使ってデータ登録内容を確認します。接続情報は環境変数から読み込みますので、接続文字列は *postgresql://* だけで認識してくれます。"
   ]
  },
  {
   "cell_type": "code",
   "execution_count": 9,
   "metadata": {},
   "outputs": [],
   "source": [
    "%load_ext sql"
   ]
  },
  {
   "cell_type": "code",
   "execution_count": 10,
   "metadata": {},
   "outputs": [
    {
     "name": "stdout",
     "output_type": "stream",
     "text": [
      "2 rows affected.\n"
     ]
    },
    {
     "data": {
      "text/html": [
       "<table>\n",
       "    <tr>\n",
       "        <th>id</th>\n",
       "        <th>code</th>\n",
       "        <th>name</th>\n",
       "        <th>created_at</th>\n",
       "    </tr>\n",
       "    <tr>\n",
       "        <td>1</td>\n",
       "        <td>01</td>\n",
       "        <td>北海道</td>\n",
       "        <td>2020-04-17 14:49:29.996229</td>\n",
       "    </tr>\n",
       "    <tr>\n",
       "        <td>2</td>\n",
       "        <td>47</td>\n",
       "        <td>沖縄県</td>\n",
       "        <td>2020-04-17 14:49:29.996229</td>\n",
       "    </tr>\n",
       "</table>"
      ],
      "text/plain": [
       "[(1, '01', '北海道', datetime.datetime(2020, 4, 17, 14, 49, 29, 996229)),\n",
       " (2, '47', '沖縄県', datetime.datetime(2020, 4, 17, 14, 49, 29, 996229))]"
      ]
     },
     "execution_count": 10,
     "metadata": {},
     "output_type": "execute_result"
    }
   ],
   "source": [
    "%%sql postgresql://\n",
    "select * from t;"
   ]
  }
 ],
 "metadata": {
  "kernelspec": {
   "display_name": "Python 3",
   "language": "python",
   "name": "python3"
  },
  "language_info": {
   "codemirror_mode": {
    "name": "ipython",
    "version": 3
   },
   "file_extension": ".py",
   "mimetype": "text/x-python",
   "name": "python",
   "nbconvert_exporter": "python",
   "pygments_lexer": "ipython3",
   "version": "3.7.3"
  },
  "widgets": {
   "state": {},
   "version": "1.1.1"
  }
 },
 "nbformat": 4,
 "nbformat_minor": 1
}
