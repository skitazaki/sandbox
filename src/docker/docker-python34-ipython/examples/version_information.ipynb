{
 "metadata": {
  "name": "",
  "signature": "sha256:d7d9faa28a820ae263cd459d6317f13b50e50798db803080c62ab1543595f860"
 },
 "nbformat": 3,
 "nbformat_minor": 0,
 "worksheets": [
  {
   "cells": [
    {
     "cell_type": "heading",
     "level": 1,
     "metadata": {},
     "source": [
      "IPython extension version_information"
     ]
    },
    {
     "cell_type": "markdown",
     "metadata": {},
     "source": [
      "[version_information](http://nbviewer.ipython.org/github/jrjohansson/version_information/blob/master/example.ipynb) extension is installed on this docker container.\n",
      "\n",
      "Installed software and module versions are as follows."
     ]
    },
    {
     "cell_type": "code",
     "collapsed": false,
     "input": [
      "%version_information"
     ],
     "language": "python",
     "metadata": {},
     "outputs": [
      {
       "html": [
        "<table><tr><th>Software</th><th>Version</th></tr><tr><td>Python</td><td>3.4.2 64bit [GCC 4.9.1]</td></tr><tr><td>IPython</td><td>2.3.1</td></tr><tr><td>OS</td><td>Linux 3.13.0 24 generic x86_64 with debian 8.0</td></tr><tr><td colspan='2'>Sun Dec 14 14:39:15 2014 UTC</td></tr></table>"
       ],
       "json": [
        "{\"Software versions\": [{\"module\": \"Python\", \"version\": \"3.4.2 64bit [GCC 4.9.1]\"}, {\"module\": \"IPython\", \"version\": \"2.3.1\"}, {\"module\": \"OS\", \"version\": \"Linux 3.13.0 24 generic x86_64 with debian 8.0\"}]}"
       ],
       "latex": [
        "\\begin{tabular}{|l|l|}\\hline\n",
        "{\\bf Software} & {\\bf Version} \\\\ \\hline\\hline\n",
        "Python & 3.4.2 64bit [GCC 4.9.1] \\\\ \\hline\n",
        "IPython & 2.3.1 \\\\ \\hline\n",
        "OS & Linux 3.13.0 24 generic x86\\_64 with debian 8.0 \\\\ \\hline\n",
        "\\hline \\multicolumn{2}{|l|}{Sun Dec 14 14:39:15 2014 UTC} \\\\ \\hline\n",
        "\\end{tabular}\n"
       ],
       "metadata": {},
       "output_type": "pyout",
       "prompt_number": 1,
       "text": [
        "Software versions\n",
        "Python 3.4.2 64bit [GCC 4.9.1]\n",
        "IPython 2.3.1\n",
        "OS Linux 3.13.0 24 generic x86_64 with debian 8.0\n",
        "Sun Dec 14 14:39:15 2014 UTC"
       ]
      }
     ],
     "prompt_number": 1
    },
    {
     "cell_type": "code",
     "collapsed": false,
     "input": [
      "%version_information numpy, scipy, pandas, sklearn, matplotlib, networkx, bokeh, xlsxwriter"
     ],
     "language": "python",
     "metadata": {},
     "outputs": [
      {
       "html": [
        "<table><tr><th>Software</th><th>Version</th></tr><tr><td>Python</td><td>3.4.2 64bit [GCC 4.9.1]</td></tr><tr><td>IPython</td><td>2.3.1</td></tr><tr><td>OS</td><td>Linux 3.13.0 24 generic x86_64 with debian 8.0</td></tr><tr><td>numpy</td><td>1.9.1</td></tr><tr><td>scipy</td><td>0.14.0</td></tr><tr><td>pandas</td><td>0.15.1</td></tr><tr><td>sklearn</td><td>0.15.2</td></tr><tr><td>matplotlib</td><td>1.4.2</td></tr><tr><td>networkx</td><td>1.9.1</td></tr><tr><td>bokeh</td><td>0.7.0</td></tr><tr><td>xlsxwriter</td><td>0.6.4</td></tr><tr><td colspan='2'>Sun Dec 14 14:39:42 2014 UTC</td></tr></table>"
       ],
       "json": [
        "{\"Software versions\": [{\"module\": \"Python\", \"version\": \"3.4.2 64bit [GCC 4.9.1]\"}, {\"module\": \"IPython\", \"version\": \"2.3.1\"}, {\"module\": \"OS\", \"version\": \"Linux 3.13.0 24 generic x86_64 with debian 8.0\"}, {\"module\": \"numpy\", \"version\": \"1.9.1\"}, {\"module\": \"scipy\", \"version\": \"0.14.0\"}, {\"module\": \"pandas\", \"version\": \"0.15.1\"}, {\"module\": \"sklearn\", \"version\": \"0.15.2\"}, {\"module\": \"matplotlib\", \"version\": \"1.4.2\"}, {\"module\": \"networkx\", \"version\": \"1.9.1\"}, {\"module\": \"bokeh\", \"version\": \"0.7.0\"}, {\"module\": \"xlsxwriter\", \"version\": \"0.6.4\"}]}"
       ],
       "latex": [
        "\\begin{tabular}{|l|l|}\\hline\n",
        "{\\bf Software} & {\\bf Version} \\\\ \\hline\\hline\n",
        "Python & 3.4.2 64bit [GCC 4.9.1] \\\\ \\hline\n",
        "IPython & 2.3.1 \\\\ \\hline\n",
        "OS & Linux 3.13.0 24 generic x86\\_64 with debian 8.0 \\\\ \\hline\n",
        "numpy & 1.9.1 \\\\ \\hline\n",
        "scipy & 0.14.0 \\\\ \\hline\n",
        "pandas & 0.15.1 \\\\ \\hline\n",
        "sklearn & 0.15.2 \\\\ \\hline\n",
        "matplotlib & 1.4.2 \\\\ \\hline\n",
        "networkx & 1.9.1 \\\\ \\hline\n",
        "bokeh & 0.7.0 \\\\ \\hline\n",
        "xlsxwriter & 0.6.4 \\\\ \\hline\n",
        "\\hline \\multicolumn{2}{|l|}{Sun Dec 14 14:39:42 2014 UTC} \\\\ \\hline\n",
        "\\end{tabular}\n"
       ],
       "metadata": {},
       "output_type": "pyout",
       "prompt_number": 2,
       "text": [
        "Software versions\n",
        "Python 3.4.2 64bit [GCC 4.9.1]\n",
        "IPython 2.3.1\n",
        "OS Linux 3.13.0 24 generic x86_64 with debian 8.0\n",
        "numpy 1.9.1\n",
        "scipy 0.14.0\n",
        "pandas 0.15.1\n",
        "sklearn 0.15.2\n",
        "matplotlib 1.4.2\n",
        "networkx 1.9.1\n",
        "bokeh 0.7.0\n",
        "xlsxwriter 0.6.4\n",
        "Sun Dec 14 14:39:42 2014 UTC"
       ]
      }
     ],
     "prompt_number": 2
    }
   ],
   "metadata": {}
  }
 ]
}